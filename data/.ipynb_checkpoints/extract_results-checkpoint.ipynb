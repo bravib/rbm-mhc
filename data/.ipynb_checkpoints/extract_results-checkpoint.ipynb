{
 "cells": [
  {
   "cell_type": "code",
   "execution_count": null,
   "metadata": {},
   "outputs": [],
   "source": [
    "rootf = FOLDER_NAME ## Here insert your folder path ##\n",
    "\n",
    "## imports ##\n",
    "\n",
    "import sys, os, pickle\n",
    "sys.path.append(rootf + '/rbm/PGM3/source/')\n",
    "sys.path.append(rootf + '/rbm/PGM3/utilities/')\n",
    "from common_imports import *\n",
    "import dataset_utils, plots_utils, RBM_utils, evaluate_learning_utils, Proteins_utils, sequence_logo\n",
    "import utilities as utilities\n",
    "import rbm as rbm\n",
    "import importlib\n",
    "import butils\n",
    "import sequence_logo"
   ]
  },
  {
   "cell_type": "code",
   "execution_count": null,
   "metadata": {},
   "outputs": [],
   "source": [
    "namep = 'peptides-to-score' ## here insert the name of the file with peptides to score ##\n",
    "fn = out_fold + '/scoring/covid_9mers_scored_YesReal_0_hu_5_l120.001_AL9.0_SA9_RWYesAlpha_TR1.txt'\n",
    "scores_out = pd.read_csv(fn, sep = '\\t')\n",
    "\n",
    "llt = scores_out['Total RBM-MHC score'].values\n",
    "pred = scores_out['Pred. HLA class'].values\n",
    "seqs = list(scores_out['Sequences'].values)\n",
    "length = scores_out['Length'].values\n",
    "\n",
    "Scores_list = zip(seqs, llt, pred, length)\n",
    "Srank = sorted(sorted(Scores_list, key = lambda x : x[3]), key = lambda x : x[1], reverse = True)\n",
    "\n",
    "data_ranked = {'Peptide':list(np.array(Srank)[:,0]),\n",
    "        'RBM-MHC score': list(np.array(Srank)[:,1]),\n",
    "        'Predicted HLA-I': list(np.array(Srank)[:,2]),\n",
    "        'Peptide Length': list(np.array(Srank)[:,3])\n",
    "        }\n",
    "\n",
    "pd.DataFrame (data_ranked, columns = ['Peptide','RBM-MHC score','Predicted HLA-I', 'Peptide Length'])"
   ]
  },
  {
   "cell_type": "code",
   "execution_count": null,
   "metadata": {},
   "outputs": [],
   "source": []
  }
 ],
 "metadata": {
  "kernelspec": {
   "display_name": "Python 3",
   "language": "python",
   "name": "python3"
  },
  "language_info": {
   "codemirror_mode": {
    "name": "ipython",
    "version": 3
   },
   "file_extension": ".py",
   "mimetype": "text/x-python",
   "name": "python",
   "nbconvert_exporter": "python",
   "pygments_lexer": "ipython3",
   "version": "3.6.9"
  }
 },
 "nbformat": 4,
 "nbformat_minor": 4
}
