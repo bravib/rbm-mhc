{
 "cells": [
  {
   "cell_type": "code",
   "execution_count": 1,
   "metadata": {},
   "outputs": [
    {
     "name": "stderr",
     "output_type": "stream",
     "text": [
      "/home/barbara/.local/lib/python3.6/site-packages/ipykernel_launcher.py:38: MatplotlibDeprecationWarning: \n",
      "The createFontList function was deprecated in Matplotlib 3.2 and will be removed two minor releases later. Use FontManager.addfont instead.\n"
     ]
    }
   ],
   "source": [
    "rootf = '/home/barbara/Barbara_Bravi/'\n",
    "#rootf = '/users/bravi/'\n",
    "\n",
    "import matplotlib.pyplot as plt\n",
    "import numpy as np\n",
    "#matplotlib.use('Agg')\n",
    "from matplotlib.colors import LogNorm\n",
    "import pandas as pd\n",
    "import seaborn as sns\n",
    "import linecache\n",
    "import xlsxwriter\n",
    "\n",
    "# Plots stuff\n",
    "import matplotlib as mpl\n",
    "from matplotlib.backends.backend_pdf import PdfPages\n",
    "from matplotlib import patches\n",
    "from pandas.plotting import table\n",
    "import sklearn\n",
    "from sklearn import metrics\n",
    "from sklearn.cluster import KMeans\n",
    "from sklearn.cluster import AgglomerativeClustering\n",
    "from sklearn.mixture import GaussianMixture\n",
    "from scipy.stats import percentileofscore\n",
    "import csv\n",
    "\n",
    "#matplotlib.use('Agg')\n",
    "from matplotlib.colors import LogNorm\n",
    "\n",
    "# Plots stuff\n",
    "import matplotlib as mpl\n",
    "from matplotlib.backends.backend_pdf import PdfPages\n",
    "from matplotlib import patches\n",
    "from pandas.plotting import table\n",
    "\n",
    "## to add fonts that are available only locally ##\n",
    "import matplotlib.font_manager as font_manager \n",
    "font_files = font_manager.findSystemFonts(fontpaths=rootf + 'anaconda3/share/fonts')\n",
    "font_list = font_manager.createFontList(font_files)\n",
    "font_manager.fontManager.ttflist.extend(font_list)\n",
    "\n",
    "#fm = mpl.font_manager\n",
    "#fm.get_cachedir()\n",
    "mpl.rcParams['font.family'] = ['Garuda']\n",
    "mpl.rcParams['font.serif'] = ['Garuda-Oblique']\n"
   ]
  },
  {
   "cell_type": "code",
   "execution_count": 2,
   "metadata": {},
   "outputs": [
    {
     "name": "stdout",
     "output_type": "stream",
     "text": [
      "100000\n",
      "10000\n"
     ]
    }
   ],
   "source": []
  },
  {
   "cell_type": "code",
   "execution_count": 8,
   "metadata": {},
   "outputs": [
    {
     "data": {
      "text/plain": [
       "[0.9949282828282828,\n",
       " 0.9240171717171717,\n",
       " 0.9877772727272728,\n",
       " 0.9892,\n",
       " 0.9409666666666666,\n",
       " 0.9797535353535354,\n",
       " 0.9862191919191919,\n",
       " 0.9606606060606061,\n",
       " 0.9755939393939393,\n",
       " 0.9411707070707072,\n",
       " 0.9705858585858586,\n",
       " 0.9768696969696969,\n",
       " 0.9811898989898991,\n",
       " 0.9868444444444444,\n",
       " 0.9872080808080809,\n",
       " 0.9864262626262627,\n",
       " 0.9878929292929294,\n",
       " 0.9744141414141413,\n",
       " 0.9513262626262626,\n",
       " 0.9783090909090909,\n",
       " 0.9279752525252526,\n",
       " 0.9700787878787879,\n",
       " 0.9754474747474747,\n",
       " 0.9891313131313132,\n",
       " 0.9883181818181818,\n",
       " 0.9654969696969697,\n",
       " 0.9648141414141416,\n",
       " 0.9815101010101009,\n",
       " 0.9828,\n",
       " 0.8820777777777777,\n",
       " 0.9870525252525252,\n",
       " 0.9248424242424242,\n",
       " 0.9801121212121212,\n",
       " 0.9707848484848483,\n",
       " 0.9861666666666667,\n",
       " 0.9822338383838385,\n",
       " 0.9808045454545454,\n",
       " 0.9823737373737373,\n",
       " 0.9694979797979798,\n",
       " 0.9828131313131313,\n",
       " 0.9874626262626263,\n",
       " 0.9883010101010101,\n",
       " 0.9753313131313132,\n",
       " 0.9026232323232323,\n",
       " 0.8869868686868688,\n",
       " 0.9836555555555556,\n",
       " 0.9892090909090908,\n",
       " 0.9436141414141415,\n",
       " 0.9807212121212122,\n",
       " 0.9887939393939394,\n",
       " 0.9801484848484848,\n",
       " 0.9463434343434343,\n",
       " 0.9877646464646465,\n",
       " 0.9818858585858585,\n",
       " 0.9898090909090909,\n",
       " 0.9839575757575758,\n",
       " 0.9834207070707072,\n",
       " 0.9523717171717171,\n",
       " 0.9877757575757576,\n",
       " 0.9712015151515151,\n",
       " 0.9051555555555555,\n",
       " 0.9728232323232323,\n",
       " 0.9839383838383838,\n",
       " 0.8628606060606061,\n",
       " 0.983230303030303,\n",
       " 0.9818060606060606,\n",
       " 0.9620777777777778,\n",
       " 0.823590909090909,\n",
       " 0.9765636363636364,\n",
       " 0.9746616161616162,\n",
       " 0.9777580808080808,\n",
       " 0.9806161616161617,\n",
       " 0.9194909090909091,\n",
       " 0.9652454545454545,\n",
       " 0.9579585858585858,\n",
       " 0.976521212121212,\n",
       " 0.9578277777777777,\n",
       " 0.9796484848484848,\n",
       " 0.9837813131313131,\n",
       " 0.9476181818181819,\n",
       " 0.941381313131313,\n",
       " 0.9867222222222223,\n",
       " 0.9539151515151515,\n",
       " 0.9742378787878787,\n",
       " 0.9866414141414142,\n",
       " 0.9384252525252526,\n",
       " 0.9607171717171716,\n",
       " 0.9760616161616161,\n",
       " 0.9843484848484849,\n",
       " 0.9596474747474748,\n",
       " 0.9293141414141414,\n",
       " 0.9627040404040403]"
      ]
     },
     "execution_count": 8,
     "metadata": {},
     "output_type": "execute_result"
    }
   ],
   "source": [
    "auc_rbm"
   ]
  },
  {
   "cell_type": "code",
   "execution_count": null,
   "metadata": {},
   "outputs": [],
   "source": []
  }
 ],
 "metadata": {
  "kernelspec": {
   "display_name": "Python 3",
   "language": "python",
   "name": "python3"
  },
  "language_info": {
   "codemirror_mode": {
    "name": "ipython",
    "version": 3
   },
   "file_extension": ".py",
   "mimetype": "text/x-python",
   "name": "python",
   "nbconvert_exporter": "python",
   "pygments_lexer": "ipython3",
   "version": "3.6.9"
  }
 },
 "nbformat": 4,
 "nbformat_minor": 4
}
