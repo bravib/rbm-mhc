{
 "cells": [
  {
   "cell_type": "code",
   "execution_count": 2,
   "metadata": {},
   "outputs": [
    {
     "name": "stderr",
     "output_type": "stream",
     "text": [
      "/home/barbara/rbm-mhc/PGM/source/numba_utilities.py:1124: NumbaPerformanceWarning: np.dot() is faster on contiguous arrays, called on (array(float32, 2d, F), array(float32, 2d, A))\n",
      "  dmean_v_dw = np.dot(s1.T, V)\n",
      "/home/barbara/rbm-mhc/PGM/source/numba_utilities.py:1125: NumbaPerformanceWarning: np.dot() is faster on contiguous arrays, called on (array(float32, 2d, F), array(float32, 2d, A))\n",
      "  dvar_e_dw = np.dot(s2.T, V)\n",
      "/home/barbara/rbm-mhc/PGM/source/numba_utilities.py:1126: NumbaPerformanceWarning: np.dot() is faster on contiguous arrays, called on (array(float32, 2d, F), array(float32, 2d, A))\n",
      "  tmp3 = np.dot(s3.T, V)\n",
      "/home/barbara/rbm-mhc/PGM/source/numba_utilities.py:961: NumbaPerformanceWarning: np.dot() is faster on contiguous arrays, called on (array(float32, 1d, A), array(float32, 2d, A))\n",
      "  mean_V = np.dot(weights, V) / sum_weights\n",
      "findfont: Font family ['Arial'] not found. Falling back to DejaVu Sans.\n",
      "findfont: Font family ['Arial'] not found. Falling back to DejaVu Sans.\n"
     ]
    }
   ],
   "source": [
    "rootf = FOLDER_NAME ## Here insert your rbm-mhc folder path. e.g. '/home/user/rbm-mhc' ##\n",
    "\n",
    "## imports ##\n",
    "import sys, os, pickle\n",
    "sys.path.append(rootf + '/PGM/source/')\n",
    "sys.path.append(rootf + '/PGM/utilities/')\n",
    "sys.path.append(rootf + '/Align_utils/')\n",
    "from common_imports import set_num_threads\n",
    "set_num_threads(1)\n",
    "import numpy as np\n",
    "import pandas as pd\n",
    "import rbm,utilities\n",
    "import Proteins_utils, RBM_utils, utilities,sequence_logo,plots_utils\n",
    "import importlib\n",
    "import butils\n",
    "import sequence_logo\n",
    "import matplotlib.pyplot as plt"
   ]
  },
  {
   "cell_type": "code",
   "execution_count": null,
   "metadata": {},
   "outputs": [],
   "source": [
    "Here, we read the table where peptides are assigned a HLA-I type by RBM-MHC and we \n",
    "visualize motifs corresponding to peptides predicted by RBM-MHC to be of the same \n",
    "HLA binding specificity as in Fig. 2A."
   ]
  },
  {
   "cell_type": "code",
   "execution_count": null,
   "metadata": {},
   "outputs": [],
   "source": [
    "names = 'sample_file' ## here insert the sample file name ##\n",
    "nameo = 'string_output' ## here insert the string used to name output files ##\n",
    "out_fold = rootf + '/output_folder'\n",
    "\n",
    "hlas = ['HLA-A*01:01', 'HLA-A*03:01', 'HLA-B*07:02', 'HLA-B*08:01', 'HLA-C*07:01', 'HLA-C*07:02']\n",
    "nc = len(hlas)\n",
    "\n",
    "filename_motif = out_fold + '/' + names + '_classification_' + nameo + '.txt'\n",
    "table1 = pd.read_csv(filename_motif , sep='\\t')\n",
    "table2 = table1\n",
    "## This line allows to exclude data with labels from IEDB ## \n",
    "# table2 = table1[table1['Training']==0]\n",
    "\n",
    "CC = 21 # number of symbols: amino acids + gap\n",
    "SA = 9 # length of peptides\n",
    "\n",
    "pseudocount = 0.000001\n",
    "\n",
    "fig, axess = plt.subplots(6,1)\n",
    "fig.set_figheight(7)\n",
    "fig.set_figwidth(4)\n",
    "fig.subplots_adjust(wspace=0.5, hspace = 1.1, bottom = 0.2)\n",
    "st=12\n",
    "sl=st\n",
    "\n",
    "seqs_all=[]\n",
    "for h in range(nc):\n",
    "    seqs_allh = list(table1[table1['RBM-MHC label'] == h]['Data Core'].values)\n",
    "    Nrbm=len(seqs_allh)\n",
    "    seqs_all.append(seqs_allh)\n",
    "    sel_n = butils.convert_number(seqs_allh)\n",
    "    pwm_rbm = utilities.average(sel_n, c = CC);\n",
    "        \n",
    "    for i in range(SA):\n",
    "        for a in range(CC):\n",
    "            if pwm_rbm[i,a] < pseudocount:\n",
    "                pwm_rbm[i,a] = pseudocount  \n",
    "            \n",
    "    ax1= axess[h]\n",
    "    titlep =  hlas[h] + ' motif (# seqs. = ' + str(Nrbm) + ')'\n",
    "    sequence_logo.Sequence_logo(pwm_rbm, ax = ax1, figsize=(12,3.5), ylabel= 'bits', title = titlep, show=True, ticks_every=1, ticks_labels_size=sl, title_size=st)\n",
    "\n",
    "plt.tight_layout()\n",
    "namefig = out_fold + '/motifs_reconstructed.png'\n",
    "fig.savefig(namefig,dpi=300)\n",
    "plt.close()\n",
    "\n",
    "for cl in range(nc):\n",
    "    name_fi = out_fold + '/peptides_'+ nameo + '_' + str(hlas[cl])\n",
    "    with open(name_fi  + '.txt', 'w') as out_f:\n",
    "        for r in range(len(seqs_all[cl])):\n",
    "            out_f.write(seqs_all[cl][r] + '\\n')"
   ]
  },
  {
   "cell_type": "markdown",
   "metadata": {},
   "source": [
    "Here, we upload the trained RBM model, we visualize its weights and \n",
    "examples of inputs to hidden units, similarly to Fig. 2A and Supplementary Figs. 2-3."
   ]
  },
  {
   "cell_type": "code",
   "execution_count": null,
   "metadata": {},
   "outputs": [],
   "source": [
    "name_r = out_fold + '/model_' + nameo + '.data'\n",
    "RBM = RBM_utils.loadRBM(name_r)\n",
    "hu = RBM.n_h ## hidden units of the model ##\n",
    "\n",
    "## figure with weights ## \n",
    "fig, axess = plt.subplots(10,1)\n",
    "fig.set_figheight(11)\n",
    "fig.set_figwidth(4)\n",
    "fig.subplots_adjust(wspace=0.5, hspace = 1., bottom = 0.2)\n",
    "st=12\n",
    "sl=st\n",
    "\n",
    "for h in range(hu):           \n",
    "    ax1= axess[h]\n",
    "    titlep = ''\n",
    "    sequence_logo.Sequence_logo(RBM.weights[h], ax = ax1, figsize=(12,3.5), ylabel = r'W_' + str(h + 1), title=' ', ticks_every = 1,ticks_labels_size=sl,title_size=st)    \n",
    "plt.tight_layout()\n",
    "\n",
    "namefig = out_fold + '/weights.png'\n",
    "fig.savefig(namefig,  bbox_inches = 'tight', pad_inches = 0, dpi = 300)\n",
    "plt.close()\n",
    "\n",
    "colors = ['r','orange', 'deepskyblue', 'blue', 'springgreen', 'forestgreen']\n",
    "\n",
    "s2 = 18\n",
    "sl = 12\n",
    "list_ix=[0,1] ## example of hidden units, but any could be selected ##\n",
    "list_iy=[2,3] ## example of hidden units, but any could be selected ##\n",
    "s1 = 1.0\n",
    "\n",
    "for ix in list_ix:\n",
    "    for iy in list_iy:\n",
    "        fig, ax = plt.subplots()\n",
    "        fig.set_figwidth(5)\n",
    "        fig.set_figheight(5)\n",
    "\n",
    "        for h in range(nc):\n",
    "            sel_n = butils.convert_number(seqs_all[h])\n",
    "            In = RBM.vlayer.compute_output(sel_n, RBM.weights)\n",
    "            ax.scatter(In[:,ix],In[:,iy], c = colors[h], s = s1, label = hlas[h])\n",
    "\n",
    "        ax.set_xlabel('Input to h_' + str(ix+1), fontsize=s2)\n",
    "        ax.set_ylabel('Input to h_' + str(iy+1), fontsize=s2)\n",
    "        ax.tick_params(axis='both', which='major', labelsize = s2)\n",
    "        plt.tight_layout()\n",
    "        plt.legend(fontsize=10,markerscale=2,frameon=False, loc ='upper right')\n",
    "        pathfig = out_fold + '/Input_' + str(ix+1) + '_vs_Input_' + str(iy+1) + '.png'\n",
    "        fig.savefig(pathfig,  bbox_inches = 'tight', pad_inches = 0, dpi = 300)\n",
    "        plt.close() "
   ]
  },
  {
   "cell_type": "markdown",
   "metadata": {},
   "source": [
    "Here, we read the table of scored peptides and we rank them according to the \n",
    "RBM-MHC presentation score"
   ]
  },
  {
   "cell_type": "code",
   "execution_count": null,
   "metadata": {},
   "outputs": [],
   "source": [
    "namep = 'peptides-to-score' ## here insert the name of the file with peptides to score ##\n",
    "fn = out_fold + '/scoring/' + namep + '_scored_' + nameo + '.txt'\n",
    "scores_out = pd.read_csv(fn, sep = '\\t')\n",
    "\n",
    "llt = scores_out['Total RBM-MHC score'].values\n",
    "pred = scores_out['Pred. HLA class'].values\n",
    "seqs = list(scores_out['Sequences'].values)\n",
    "length = scores_out['Length'].values\n",
    "\n",
    "Scores_list = zip(seqs, llt, pred, length)\n",
    "Srank = sorted(sorted(Scores_list, key = lambda x : x[3]), key = lambda x : x[1], reverse = True)\n",
    "\n",
    "data_ranked = {'Peptide':list(np.array(Srank)[:,0]),\n",
    "        'RBM-MHC score': list(np.array(Srank)[:,1]),\n",
    "        'Predicted HLA-I': list(np.array(Srank)[:,2]),\n",
    "        'Peptide Length': list(np.array(Srank)[:,3])      \n",
    "        }\n",
    "pd.DataFrame (data_ranked, columns = ['Peptide','RBM-MHC score','Predicted HLA-I', 'Peptide Length'])"
   ]
  },
  {
   "cell_type": "code",
   "execution_count": null,
   "metadata": {},
   "outputs": [],
   "source": []
  }
 ],
 "metadata": {
  "kernelspec": {
   "display_name": "Python 3",
   "language": "python",
   "name": "python3"
  },
  "language_info": {
   "codemirror_mode": {
    "name": "ipython",
    "version": 3
   },
   "file_extension": ".py",
   "mimetype": "text/x-python",
   "name": "python",
   "nbconvert_exporter": "python",
   "pygments_lexer": "ipython3",
   "version": "3.6.9"
  }
 },
 "nbformat": 4,
 "nbformat_minor": 4
}
